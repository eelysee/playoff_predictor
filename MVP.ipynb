{
 "cells": [
  {
   "cell_type": "code",
   "execution_count": 2,
   "id": "875c30e3",
   "metadata": {},
   "outputs": [],
   "source": [
    "import explore"
   ]
  },
  {
   "cell_type": "markdown",
   "id": "7f38e9c3",
   "metadata": {},
   "source": [
    "## Data Exploration"
   ]
  },
  {
   "cell_type": "markdown",
   "id": "c058f782",
   "metadata": {},
   "source": [
    "The dataset consists of 7 different csv's detailing play-by-play data for the 2021-2022 NBA season, statistics covering the season, and additional data about every shot attempted during the season."
   ]
  },
  {
   "cell_type": "markdown",
   "id": "112eab95",
   "metadata": {},
   "source": [
    "The initial dataset has 181 features and 1_958_750 observations"
   ]
  }
 ],
 "metadata": {
  "kernelspec": {
   "display_name": "Python 3 (ipykernel)",
   "language": "python",
   "name": "python3"
  },
  "language_info": {
   "codemirror_mode": {
    "name": "ipython",
    "version": 3
   },
   "file_extension": ".py",
   "mimetype": "text/x-python",
   "name": "python",
   "nbconvert_exporter": "python",
   "pygments_lexer": "ipython3",
   "version": "3.10.9"
  }
 },
 "nbformat": 4,
 "nbformat_minor": 5
}
