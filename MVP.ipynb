{
 "cells": [
  {
   "cell_type": "code",
   "execution_count": 2,
   "id": "c2c84050",
   "metadata": {},
   "outputs": [],
   "source": [
    "import explore"
   ]
  },
  {
   "cell_type": "markdown",
   "id": "11e6743b",
   "metadata": {},
   "source": [
    "## Data Exploration"
   ]
  },
  {
   "cell_type": "markdown",
   "id": "fcedc9e5",
   "metadata": {},
   "source": [
    "The dataset consists of 7 different csv's detailing play-by-play data for the 2021-2022 NBA season, statistics covering the season, and additional data about every shot attempted during the season."
   ]
  },
  {
   "cell_type": "markdown",
   "id": "9ce6ffe0",
   "metadata": {},
   "source": [
    "The initial dataset has 181 features and 1_958_750 observations"
   ]
  },
  {
   "cell_type": "markdown",
   "id": "0573e647",
   "metadata": {},
   "source": [
    "## Which features to keep?\n",
    "\n",
    "To begin I will just be keeping score by first quarter, half, 3rd quarter and final.\n",
    "\n",
    "Each test will be in the next sequence. The model will try all teh games in the past, and the last 5 to ten games. As well as their last games. "
   ]
  },
  {
   "cell_type": "markdown",
   "id": "dbb600f4",
   "metadata": {},
   "source": [
    "### Features\n",
    "\n",
    "team_id\n",
    "home or away\n",
    "opponent_id\n",
    "record total\n",
    "record \n",
    "total points scored in the event\n",
    "wins over last 5\n",
    "wins over last game\n",
    "wins over last 10\n",
    "\n",
    "\n",
    "##### offensive stats\n",
    "points\n",
    "points first quarter\n",
    "points second quarter\n",
    "points third quarter\n",
    "field goal percentage\n",
    "field goal pts\n",
    "three point pts\n",
    "three point percentage\n",
    "shooting fouls drawn\n",
    "free throws\n",
    "free throw percentage\n",
    "assists\n",
    "\n",
    "\n",
    "##### defensive stats\n",
    "blocks \n",
    "steals \n",
    "turnovers \n",
    "rebounds\n",
    "personal fouls\n",
    "\n",
    "\n"
   ]
  },
  {
   "cell_type": "markdown",
   "id": "04913ead",
   "metadata": {},
   "source": [
    "### Dimensionality\n",
    "\n",
    "Very important to haggle over features becaue it was the primary method I had for reducing dimesionality.\n",
    "\n",
    "If I had more computational power I would just run it as is and let the LSTM model determine it's own feature importance for later.\n",
    "\n",
    "Running first test and depending on how many hyper perameters i want to change I will run Granger Causality and Cross-Correlation tests to see if I can reduce some of the features that are related over different time lags. This should be specifially relevant to the LSTM model."
   ]
  },
  {
   "cell_type": "markdown",
   "id": "23003230",
   "metadata": {},
   "source": [
    "## Conclusion\n",
    "\n",
    "#### like to have\n",
    "starting 5\n",
    "- number of points\n",
    "- complete prodution broken down by player\n",
    "bench players\n",
    "- complete stats \n",
    "height of starting 5\n",
    "- this would be a good place to compare teams that score from range or in post\n",
    "Incorporate not shot location data for a defensive stat.\n",
    "- if a teams points come from a certain lane or their clutch points come from certain players that could be a good metric to have when determining the winner of close games.\n",
    "Haveing the play by play and minute by minute data incorpotad.\n",
    "The data is avabilable just currently not feasable with the resources and time available for this project "
   ]
  },
  {
   "cell_type": "code",
   "execution_count": null,
   "id": "55cb379b",
   "metadata": {},
   "outputs": [],
   "source": []
  }
 ],
 "metadata": {
  "kernelspec": {
   "display_name": "Python 3 (ipykernel)",
   "language": "python",
   "name": "python3"
  },
  "language_info": {
   "codemirror_mode": {
    "name": "ipython",
    "version": 3
   },
   "file_extension": ".py",
   "mimetype": "text/x-python",
   "name": "python",
   "nbconvert_exporter": "python",
   "pygments_lexer": "ipython3",
   "version": "3.10.9"
  }
 },
 "nbformat": 4,
 "nbformat_minor": 5
}
