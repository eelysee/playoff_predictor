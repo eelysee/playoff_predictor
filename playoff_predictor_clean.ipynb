{
 "cells": [
  {
   "cell_type": "code",
   "execution_count": 2,
   "id": "78c03c39",
   "metadata": {},
   "outputs": [],
   "source": [
    "import pandas as pd\n",
    "import os\n",
    "\n",
    "import explore"
   ]
  },
  {
   "cell_type": "code",
   "execution_count": 3,
   "id": "ef374227",
   "metadata": {},
   "outputs": [],
   "source": [
    "nbastats, nbapo, nbadata, nbastats_po, pbpstats, shotdetail, shotdetail_po = explore.import_nba()"
   ]
  },
  {
   "cell_type": "code",
   "execution_count": 4,
   "id": "a922972b",
   "metadata": {},
   "outputs": [],
   "source": [
    "df = [nbastats, nbapo, nbadata, nbastats_po, \n",
    "      pbpstats, shotdetail, shotdetail_po]"
   ]
  },
  {
   "cell_type": "markdown",
   "id": "8d81bb28",
   "metadata": {},
   "source": [
    "# Which features to keep?\n",
    "\n",
    "To begin I will just be keeping score by first quarter, half, 3rd quarter and final.\n",
    "\n",
    "Each test will be in the next sequence. The model will try all teh games in the past, and the last 5 to ten games. As well as their last games. "
   ]
  },
  {
   "cell_type": "markdown",
   "id": "5491bacd",
   "metadata": {},
   "source": [
    "### Features\n",
    "\n",
    "team_id\n",
    "home or away\n",
    "opponent_id\n",
    "record total\n",
    "record \n",
    "total points scored in the event\n",
    "wins over last 5\n",
    "wins over last game\n",
    "wins over last 10\n",
    "\n",
    "\n",
    "##### offensive stats\n",
    "points\n",
    "points first quarter\n",
    "points second quarter\n",
    "points third quarter\n",
    "field goal percentage\n",
    "field goal pts\n",
    "three point pts\n",
    "three point percentage\n",
    "shooting fouls drawn\n",
    "free throws\n",
    "free throw percentage\n",
    "assists\n",
    "\n",
    "\n",
    "##### defensive stats\n",
    "blocks \n",
    "steals \n",
    "turnovers \n",
    "rebounds\n",
    "personal fouls\n",
    "\n",
    "\n",
    "#### like to have\n",
    "starting 5\n",
    "- number of points\n",
    "- complete prodution broken down by player\n",
    "bench player\n",
    "height of starting 5"
   ]
  },
  {
   "cell_type": "code",
   "execution_count": 12,
   "id": "c2d7a84e",
   "metadata": {},
   "outputs": [
    {
     "data": {
      "text/plain": [
       "(217218, 24)"
      ]
     },
     "execution_count": 12,
     "metadata": {},
     "output_type": "execute_result"
    }
   ],
   "source": [
    "shotdetail.shape"
   ]
  },
  {
   "cell_type": "code",
   "execution_count": 6,
   "id": "f138b934",
   "metadata": {},
   "outputs": [
    {
     "data": {
      "text/plain": [
       "GAME_ID                           0\n",
       "EVENTNUM                          0\n",
       "EVENTMSGTYPE                      0\n",
       "EVENTMSGACTIONTYPE                0\n",
       "PERIOD                            0\n",
       "WCTIMESTRING                      0\n",
       "PCTIMESTRING                      0\n",
       "HOMEDESCRIPTION              276929\n",
       "NEUTRALDESCRIPTION           562111\n",
       "VISITORDESCRIPTION           280394\n",
       "SCORE                        415034\n",
       "SCOREMARGIN                  415034\n",
       "PERSON1TYPE                       2\n",
       "PLAYER1_ID                        0\n",
       "PLAYER1_NAME                  47066\n",
       "PLAYER1_TEAM_ID               47759\n",
       "PLAYER1_TEAM_CITY             47759\n",
       "PLAYER1_TEAM_NICKNAME         47759\n",
       "PLAYER1_TEAM_ABBREVIATION     47759\n",
       "PERSON2TYPE                       0\n",
       "PLAYER2_ID                        0\n",
       "PLAYER2_NAME                 385582\n",
       "PLAYER2_TEAM_ID              385582\n",
       "PLAYER2_TEAM_CITY            385582\n",
       "PLAYER2_TEAM_NICKNAME        385582\n",
       "PLAYER2_TEAM_ABBREVIATION    385582\n",
       "PERSON3TYPE                       0\n",
       "PLAYER3_ID                        0\n",
       "PLAYER3_NAME                 560961\n",
       "PLAYER3_TEAM_ID              560961\n",
       "PLAYER3_TEAM_CITY            560961\n",
       "PLAYER3_TEAM_NICKNAME        560961\n",
       "PLAYER3_TEAM_ABBREVIATION    560961\n",
       "VIDEO_AVAILABLE_FLAG              0\n",
       "dtype: int64"
      ]
     },
     "execution_count": 6,
     "metadata": {},
     "output_type": "execute_result"
    }
   ],
   "source": [
    "nbastats.drop(columns=[''])"
   ]
  },
  {
   "cell_type": "markdown",
   "id": "ce6e1269",
   "metadata": {},
   "source": [
    "### fields that contain data i need\n",
    "\n",
    "#### nbastats\n",
    "\n",
    "#### nbadata\n",
    "evt\n",
    "de?\n",
    "opt1 -?\n",
    "opt2 -?\n",
    "opt3 -?\n",
    "opt4 -?\n",
    "tid\n",
    "hs\n",
    "vs\n",
    "epid - ?\n",
    "oftid\n",
    "ord -?\n",
    "period\n",
    "game - id\n",
    "\n",
    "###### drop\n",
    "wallclk\n",
    "cl\n",
    "locx\n",
    "locy\n",
    "\n",
    "\n",
    "#### pbpstats\n",
    "events\n",
    "fg2a\n",
    "fg2m\n",
    "fg3a\n",
    "fg3m\n",
    "gamedate -?\n",
    "gameid\n",
    "OFFENSIVEREBOUNDS\n",
    "opponent\n",
    "period\n",
    "SHOOTINGFOULSDRAWN\n",
    "TURNOVERS\n",
    "DESCRIPTION -?\n",
    "\n",
    "\n",
    "##### drop\n",
    "endtime\n",
    "NONSHOOTINGFOULSTHATRESULTEDINFTS\n",
    "OFFENSIVEREBOUNDS\n",
    "STARTSCOREDIFFERENTIAL\n",
    "STARTTIME\n",
    "STARTTYPE\n",
    "URL\n",
    "\n",
    "\n",
    "#### datanba\n",
    "de -?\n",
    "opt1\n",
    "opt2 -?\n",
    "mtype -?\n",
    "etype -?\n",
    "opid -?\n",
    "tid\n",
    "pid\n",
    "hs\n",
    "vs\n",
    "epid -?\n",
    "oftid -?\n",
    "period\n",
    "game_id\n",
    "\n",
    "##### drop\n",
    "evt\n",
    "wallclk\n",
    "cl\n",
    "locX\n",
    "locY\n",
    "\n",
    "\n",
    "#### shotdetail\n",
    "game_id\n",
    "TEAM_ID\n",
    "TEAM_NAME\n",
    "PERIOD\n",
    "EVENT_TYPE\n",
    "ACTION_TYPE\n",
    "SHOT_TYPE\n",
    "HTM\t\n",
    "\n",
    "##### drop\n",
    "grid_type\n",
    "game_event_id\n",
    "player_id\n",
    "PLAYER_NAME\n",
    "MINUTES_REMAINING\n",
    "SECONDS_REMAINING\n",
    "SHOT_ZONE_BASIC\n",
    "SHOT_ZONE_AREA\n",
    "SHOT_ZONE_RANGE\n",
    "SHOT_DISTANCE\n",
    "LOC_X\n",
    "LOC_Y\n",
    "SHOT_ATTEMPTED_FLAG\n",
    "SHOT_MADE_FLAG\n",
    "GAME_DATE\n",
    "VTM"
   ]
  }
 ],
 "metadata": {
  "kernelspec": {
   "display_name": "Python 3 (ipykernel)",
   "language": "python",
   "name": "python3"
  },
  "language_info": {
   "codemirror_mode": {
    "name": "ipython",
    "version": 3
   },
   "file_extension": ".py",
   "mimetype": "text/x-python",
   "name": "python",
   "nbconvert_exporter": "python",
   "pygments_lexer": "ipython3",
   "version": "3.10.9"
  }
 },
 "nbformat": 4,
 "nbformat_minor": 5
}
