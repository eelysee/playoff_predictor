{
 "cells": [
  {
   "cell_type": "code",
   "execution_count": 2,
   "id": "53e5582f",
   "metadata": {},
   "outputs": [],
   "source": [
    "import pandas as pd\n",
    "import os\n",
    "\n",
    "import explore"
   ]
  },
  {
   "cell_type": "code",
   "execution_count": 3,
   "id": "7d05503b",
   "metadata": {},
   "outputs": [],
   "source": [
    "nbastats, nbapo, nbadata, nbastats_po, pbpstats, shotdetail, shotdetail_po = explore.import_nba()"
   ]
  },
  {
   "cell_type": "code",
   "execution_count": 4,
   "id": "a164dc85",
   "metadata": {},
   "outputs": [],
   "source": [
    "df = [nbastats, nbapo, nbadata, nbastats_po, pbpstats, shotdetail, shotdetail_po]"
   ]
  },
  {
   "cell_type": "code",
   "execution_count": 12,
   "id": "dfaa36f8",
   "metadata": {},
   "outputs": [
    {
     "data": {
      "text/plain": [
       "(217218, 24)"
      ]
     },
     "execution_count": 12,
     "metadata": {},
     "output_type": "execute_result"
    }
   ],
   "source": [
    "shotdetail.shape"
   ]
  },
  {
   "cell_type": "code",
   "execution_count": 6,
   "id": "616d6fa5",
   "metadata": {},
   "outputs": [
    {
     "data": {
      "text/plain": [
       "GAME_ID                           0\n",
       "EVENTNUM                          0\n",
       "EVENTMSGTYPE                      0\n",
       "EVENTMSGACTIONTYPE                0\n",
       "PERIOD                            0\n",
       "WCTIMESTRING                      0\n",
       "PCTIMESTRING                      0\n",
       "HOMEDESCRIPTION              276929\n",
       "NEUTRALDESCRIPTION           562111\n",
       "VISITORDESCRIPTION           280394\n",
       "SCORE                        415034\n",
       "SCOREMARGIN                  415034\n",
       "PERSON1TYPE                       2\n",
       "PLAYER1_ID                        0\n",
       "PLAYER1_NAME                  47066\n",
       "PLAYER1_TEAM_ID               47759\n",
       "PLAYER1_TEAM_CITY             47759\n",
       "PLAYER1_TEAM_NICKNAME         47759\n",
       "PLAYER1_TEAM_ABBREVIATION     47759\n",
       "PERSON2TYPE                       0\n",
       "PLAYER2_ID                        0\n",
       "PLAYER2_NAME                 385582\n",
       "PLAYER2_TEAM_ID              385582\n",
       "PLAYER2_TEAM_CITY            385582\n",
       "PLAYER2_TEAM_NICKNAME        385582\n",
       "PLAYER2_TEAM_ABBREVIATION    385582\n",
       "PERSON3TYPE                       0\n",
       "PLAYER3_ID                        0\n",
       "PLAYER3_NAME                 560961\n",
       "PLAYER3_TEAM_ID              560961\n",
       "PLAYER3_TEAM_CITY            560961\n",
       "PLAYER3_TEAM_NICKNAME        560961\n",
       "PLAYER3_TEAM_ABBREVIATION    560961\n",
       "VIDEO_AVAILABLE_FLAG              0\n",
       "dtype: int64"
      ]
     },
     "execution_count": 6,
     "metadata": {},
     "output_type": "execute_result"
    }
   ],
   "source": [
    "nbastats.drop(columns=[''])"
   ]
  }
 ],
 "metadata": {
  "kernelspec": {
   "display_name": "Python 3 (ipykernel)",
   "language": "python",
   "name": "python3"
  },
  "language_info": {
   "codemirror_mode": {
    "name": "ipython",
    "version": 3
   },
   "file_extension": ".py",
   "mimetype": "text/x-python",
   "name": "python",
   "nbconvert_exporter": "python",
   "pygments_lexer": "ipython3",
   "version": "3.10.9"
  }
 },
 "nbformat": 4,
 "nbformat_minor": 5
}
